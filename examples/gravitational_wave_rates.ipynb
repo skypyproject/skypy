{
 "cells": [
  {
   "cell_type": "code",
   "execution_count": 1,
   "metadata": {},
   "outputs": [],
   "source": [
    "import numpy as np\n",
    "from astropy.table import Table\n",
    "from matplotlib import pyplot as plt\n",
    "from matplotlib import rc\n",
    "\n",
    "rc('text', usetex=True)\n",
    "rc('font', family='serif')\n",
    "rc('font', size=14)"
   ]
  },
  {
   "cell_type": "markdown",
   "metadata": {},
   "source": [
    "## Gravitational wave rates"
   ]
  },
  {
   "cell_type": "markdown",
   "metadata": {},
   "source": [
    "This example runs a number of SkyPy modules to create a catalogue of galaxies with compact binary merger rates according to the linear model of [Abadie et al (2010)](ttps://arxiv.org/abs/1003.2480) (Table III).\n",
    "\n",
    "Running the `gravitational_wave_rates` example:\n",
    "```bash\n",
    "$ skypy gravitational_wave_rates.yml --format fits\n",
    "```\n",
    "generates an output catalogue for us to load in:"
   ]
  },
  {
   "cell_type": "code",
   "execution_count": 2,
   "metadata": {},
   "outputs": [],
   "source": [
    "merger_rates = Table.read('merger_rates.fits')"
   ]
  },
  {
   "cell_type": "code",
   "execution_count": 3,
   "metadata": {},
   "outputs": [
    {
     "name": "stdout",
     "output_type": "stream",
     "text": [
      "<Table length=37367>\n",
      "   name     dtype   unit \n",
      "---------- ------- ------\n",
      "  redshift float64       \n",
      " magnitude float64       \n",
      "luminosity float64       \n",
      "bh_bh_rate float64 1 / yr\n",
      "ns_bh_rate float64 1 / yr\n",
      "ns_ns_rate float64 1 / yr\n",
      "\n"
     ]
    }
   ],
   "source": [
    "print(merger_rates.info)"
   ]
  },
  {
   "cell_type": "markdown",
   "metadata": {},
   "source": [
    "Here we make a quick visual check of the columns.\n",
    "\n",
    "We have asked for redshifts and magnitudes over the given redshift range and magnitude limit:\n",
    "\n",
    "```yaml\n",
    "z_range: !numpy.arange [0, 2.01, 0.1]\n",
    "mag_lim: 30\n",
    "\n",
    "merger_rates:\n",
    "    redshift: !skypy.galaxy.redshift.schechter_lf_redshift\n",
    "      redshift: $z_range\n",
    "      M_star: $M_star_red\n",
    "      phi_star: $phi_star_red\n",
    "      alpha: $alpha_red\n",
    "      m_lim: $mag_lim\n",
    "      fsky: $fsky\n",
    "    magnitude: !skypy.galaxy.luminosity.schechter_lf_magnitude\n",
    "      redshift: $merger_rates.redshift\n",
    "      M_star: $M_star_red\n",
    "      alpha: $alpha_red\n",
    "      m_lim: $mag_lim\n",
    "```"
   ]
  },
  {
   "cell_type": "code",
   "execution_count": 4,
   "metadata": {},
   "outputs": [
    {
     "data": {
      "image/png": "[encoded data removed]",
      "text/plain": [
       "<Figure size 432x288 with 1 Axes>"
      ]
     },
     "metadata": {
      "needs_background": "light"
     },
     "output_type": "display_data"
    }
   ],
   "source": [
    "plt.figure()\n",
    "plt.hist2d(merger_rates['redshift'], merger_rates['magnitude'], bins=50)\n",
    "plt.xlabel('$z$')\n",
    "plt.ylabel('$m$');"
   ]
  },
  {
   "cell_type": "code",
   "execution_count": 5,
   "metadata": {},
   "outputs": [
    {
     "data": {
      "image/png": "[encoded data removed]",
      "text/plain": [
       "<Figure size 432x288 with 1 Axes>"
      ]
     },
     "metadata": {
      "needs_background": "light"
     },
     "output_type": "display_data"
    }
   ],
   "source": [
    "plt.figure()\n",
    "plt.hist(merger_rates['redshift'], histtype='step', bins=50)\n",
    "plt.xlabel('$z$');"
   ]
  },
  {
   "cell_type": "code",
   "execution_count": 6,
   "metadata": {},
   "outputs": [
    {
     "data": {
      "image/png": "[encoded data removed]",
      "text/plain": [
       "<Figure size 432x288 with 1 Axes>"
      ]
     },
     "metadata": {
      "needs_background": "light"
     },
     "output_type": "display_data"
    }
   ],
   "source": [
    "plt.figure()\n",
    "plt.hist(merger_rates['magnitude'], histtype='step', bins=50)\n",
    "plt.xlabel('$m$');"
   ]
  },
  {
   "cell_type": "markdown",
   "metadata": {},
   "source": [
    "We also asked to generate blue light luminosities for these objects:\n",
    "```yaml\n",
    "    luminosity: !skypy.galaxy.luminosity.luminosity_from_absolute_magnitude\n",
    "      absolute_magnitude: $merger_rates.magnitude\n",
    "      zeropoint: Lsun_B\n",
    "```"
   ]
  },
  {
   "cell_type": "code",
   "execution_count": 7,
   "metadata": {},
   "outputs": [
    {
     "data": {
      "image/png": "[encoded data removed]",
      "text/plain": [
       "<Figure size 432x288 with 1 Axes>"
      ]
     },
     "metadata": {
      "needs_background": "light"
     },
     "output_type": "display_data"
    }
   ],
   "source": [
    "plt.figure()\n",
    "plt.hist(merger_rates['luminosity'], histtype='step', bins=np.logspace(5,12,50))\n",
    "plt.xlabel('$\\phi\\,$[$L_{\\odot, B}$]')\n",
    "plt.xscale('log')\n",
    "plt.yscale('log');"
   ]
  },
  {
   "cell_type": "markdown",
   "metadata": {},
   "source": [
    "And merger rates for three different types of compact binary merger:\n",
    "```yaml\n",
    "    ns_ns_rate: !skypy.gravitational_wave.b_band_merger_rate\n",
    "      population: NS-NS\n",
    "      optimism: low\n",
    "      luminosity: $merger_rates.luminosity\n",
    "    ns_bh_rate: !skypy.gravitational_wave.b_band_merger_rate\n",
    "      population: NS-BH\n",
    "      optimism: low\n",
    "      luminosity: $merger_rates.luminosity\n",
    "    bh_bh_rate: !skypy.gravitational_wave.b_band_merger_rate\n",
    "      population: BH-BH\n",
    "      optimism: low\n",
    "      luminosity: $merger_rates.luminosity\n",
    "```"
   ]
  },
  {
   "cell_type": "code",
   "execution_count": 8,
   "metadata": {},
   "outputs": [
    {
     "data": {
      "image/png": "[encoded data removed]",
      "text/plain": [
       "<Figure size 432x288 with 1 Axes>"
      ]
     },
     "metadata": {
      "needs_background": "light"
     },
     "output_type": "display_data"
    }
   ],
   "source": [
    "plt.figure()\n",
    "plt.hist(merger_rates['ns_ns_rate'], histtype='step', bins=np.logspace(-4,2,50), label='NS-NS')\n",
    "plt.hist(merger_rates['ns_bh_rate'], histtype='step', bins=np.logspace(-4,2,50), label='NS-BH')\n",
    "plt.hist(merger_rates['bh_bh_rate'], histtype='step', bins=np.logspace(-4,2,50), label='BH-BH')\n",
    "plt.legend()\n",
    "plt.xscale('log')\n",
    "plt.yscale('log')\n",
    "plt.xlabel('$R\\,$[yr$^{-1}$]');"
   ]
  }
 ],
 "metadata": {
  "kernelspec": {
   "display_name": "Python 3",
   "language": "python",
   "name": "python3"
  },
  "language_info": {
   "codemirror_mode": {
    "name": "ipython",
    "version": 3
   },
   "file_extension": ".py",
   "mimetype": "text/x-python",
   "name": "python",
   "nbconvert_exporter": "python",
   "pygments_lexer": "ipython3",
   "version": "3.7.4"
  }
 },
 "nbformat": 4,
 "nbformat_minor": 4
}
